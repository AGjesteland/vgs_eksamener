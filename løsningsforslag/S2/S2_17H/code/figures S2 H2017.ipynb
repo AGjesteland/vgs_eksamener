{
 "cells": [
  {
   "cell_type": "code",
   "execution_count": 50,
   "metadata": {},
   "outputs": [],
   "source": [
    "import numpy as np\n",
    "import matplotlib.pyplot as plt\n",
    "from collections import defaultdict\n",
    "\n",
    "plt.rc('text', usetex=True)\n",
    "plt.rc('font', family='serif')\n",
    "FONTSIZE = 15"
   ]
  },
  {
   "cell_type": "code",
   "execution_count": 40,
   "metadata": {},
   "outputs": [
    {
     "data": {
      "image/png": "[encoded data removed]",
      "text/plain": [
       "<matplotlib.figure.Figure at 0x7f6f841715c0>"
      ]
     },
     "metadata": {},
     "output_type": "display_data"
    }
   ],
   "source": [
    "# Oppgave 7d\n",
    "\n",
    "x = np.linspace(-4, 4, num = 500)\n",
    "y = (x - 2)*np.exp(x)\n",
    "\n",
    "\n",
    "plt.figure(figsize = (4, 3))\n",
    "plt.title('Skisse av $f(x) = (x-2)e^x$', fontsize = FONTSIZE)\n",
    "plt.plot(x,y, linewidth = 2, label = 'f(x)')\n",
    "plt.plot([-99, 99], [0, 0], 'k')\n",
    "plt.plot([0, 0], [-99, 99], 'k')\n",
    "plt.grid(True)\n",
    "plt.xlabel('$x$', fontsize = FONTSIZE)\n",
    "plt.xlabel('$y$', fontsize = FONTSIZE)\n",
    "plt.scatter([1], [-np.exp(1)], label = 'Minimum', color = 'red', zorder = 8)\n",
    "plt.scatter([0], [-2], label = 'Vendepunkt', color = 'purple', zorder = 8)\n",
    "\n",
    "\n",
    "plt.xlim([-3, 3])\n",
    "plt.ylim([-3, 3])\n",
    "plt.legend(loc = 'best', fontsize = FONTSIZE * 0.75)\n",
    "plt.tight_layout()\n",
    "plt.savefig('oppg_7d.pdf')\n",
    "plt.show()"
   ]
  },
  {
   "cell_type": "code",
   "execution_count": 83,
   "metadata": {},
   "outputs": [
    {
     "name": "stdout",
     "output_type": "stream",
     "text": [
      "[-20, -10, 0, 30, 40, 80]\n",
      "[0.16000000000000003, 0.4, 0.25, 0.08000000000000002, 0.1, 0.010000000000000002] 1.0\n"
     ]
    }
   ],
   "source": [
    "def convolve_once(outcomes, probs):\n",
    "    \"\"\"\n",
    "    Convolves outcomes and associated probabilities, keeps track of indexes too.\"\"\"\n",
    "\n",
    "    new_outcomes = defaultdict(int)\n",
    "\n",
    "    for outcome1, prob1 in zip(outcomes, probs):\n",
    "        for outcome2, prob2 in zip(outcomes, probs):\n",
    "            #print(outcome1, outcome2, outcome1 + outcome2 , prob1, prob2)\n",
    "            new_outcomes[outcome1 + outcome2] += prob1 * prob2\n",
    "\n",
    "    \n",
    "    #print(new_outcomes)\n",
    "            \n",
    "    outcomes = [i for (i, j) in list(sorted(new_outcomes.items()))]\n",
    "    probs = [j for (i, j) in list(sorted(new_outcomes.items()))]\n",
    "\n",
    "    assert abs(sum(probs) - 1) < 0.01\n",
    "    \n",
    "    return outcomes, probs\n",
    "\n",
    "def convolve_n(outcomes, probs, n):\n",
    "    for i in range(n):\n",
    "        outcomes, probs = convolve_once(outcomes, probs)\n",
    "        \n",
    "    return outcomes, probs\n",
    "    \n",
    "outcomes = [0, 40, -10]\n",
    "probs = [0.5, 0.1, 0.4]\n",
    "outcomes, probs = convolve_n(outcomes, probs, 1)\n",
    "print(outcomes)\n",
    "print(probs, sum(probs))"
   ]
  },
  {
   "cell_type": "code",
   "execution_count": 128,
   "metadata": {},
   "outputs": [
    {
     "name": "stdout",
     "output_type": "stream",
     "text": [
      "160 True\n",
      "640 True\n"
     ]
    },
    {
     "data": {
      "image/png": "[encoded data removed]",
      "text/plain": [
       "<matplotlib.figure.Figure at 0x7f6f76837dd8>"
      ]
     },
     "metadata": {},
     "output_type": "display_data"
    }
   ],
   "source": [
    "# Oppgave 8b\n",
    "\n",
    "\n",
    "outcomes = [0, 40, -10]\n",
    "probs = [0.5, 0.1, 0.4]\n",
    "\n",
    "# Data for first plot\n",
    "x = np.array(outcomes)\n",
    "p = np.array(probs)\n",
    "\n",
    "# Convolve 2 times, sum of 3\n",
    "outcomes, probs = convolve_n(outcomes, probs, 2)\n",
    "x2 = np.array(outcomes)\n",
    "p2 = np.array(probs)\n",
    "\n",
    "\n",
    "# Convolve 5 times, sum of 6\n",
    "outcomes, probs = convolve_n(outcomes, probs, 2)\n",
    "x3 = np.array(outcomes)\n",
    "p3 = np.array(probs)\n",
    "\n",
    "plt.figure(figsize = (8, 2.75))\n",
    "plt.subplot(1, 3, 1)\n",
    "plt.title('$S_1$', fontsize = FONTSIZE)\n",
    "plt.stem(x, p)\n",
    "plt.grid(True, zorder = -15)\n",
    "plt.ylabel('Sannsynlighet', fontsize = FONTSIZE)\n",
    "plt.xlabel('Utfallsrom for $S_1$', fontsize = FONTSIZE)\n",
    "plt.tight_layout()\n",
    "\n",
    "plt.subplot(1, 3, 2)\n",
    "plt.title('$S_4$', fontsize = FONTSIZE)\n",
    "plt.stem(x2, p2)\n",
    "#plt.xlim([-100, 100])\n",
    "plt.grid(True, zorder = -15)\n",
    "plt.xlabel('Utfallsrom for $S_4$', fontsize = FONTSIZE)\n",
    "print(max(x2), max(x2) == 40 * 4)\n",
    "plt.tight_layout()\n",
    "\n",
    "plt.subplot(1, 3, 3)\n",
    "plt.title('$S_{16}$', fontsize = FONTSIZE)\n",
    "plt.stem(x3, p3)\n",
    "plt.xlim([-10*16, 200])\n",
    "plt.grid(True, zorder = -15)\n",
    "plt.xlabel('Utfallsrom for $S_{16}$', fontsize = FONTSIZE)\n",
    "print(max(x3), max(x3) == 40 * 16)\n",
    "\n",
    "plt.tight_layout()\n",
    "plt.savefig('oppg_8b.pdf')\n",
    "plt.show()\n"
   ]
  },
  {
   "cell_type": "code",
   "execution_count": null,
   "metadata": {},
   "outputs": [],
   "source": []
  }
 ],
 "metadata": {
  "kernelspec": {
   "display_name": "Python 3",
   "language": "python",
   "name": "python3"
  },
  "language_info": {
   "codemirror_mode": {
    "name": "ipython",
    "version": 3
   },
   "file_extension": ".py",
   "mimetype": "text/x-python",
   "name": "python",
   "nbconvert_exporter": "python",
   "pygments_lexer": "ipython3",
   "version": "3.6.3"
  }
 },
 "nbformat": 4,
 "nbformat_minor": 2
}
